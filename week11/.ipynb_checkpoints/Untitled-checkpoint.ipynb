{
 "cells": [
  {
   "cell_type": "code",
   "execution_count": null,
   "metadata": {},
   "outputs": [],
   "source": [
    "class Oranges():\n",
    "    def place_order(order):\n",
    "       \n",
    "        if order <= 200:\n",
    "            print(f\"You have order {order} orange(s)\")\n",
    "        else:\n",
    "            print(\"Please your order is beyond our stock\")\n",
    "            \n",
    "    def cost(order):\n",
    "        print(\"The price of each orange is 100 nairas\")\n",
    "        prices = order*100\n",
    "        print(\"Your total price is \",prices)\n",
    "\n",
    "name = input(\"Enter name please: \")\n",
    "print(f\"Hello {name} welcome\")\n",
    "\n",
    "order = int(input(\"Please place your order: \")) \n",
    "house = Oranges() \n",
    "house.place_order()\n",
    "house.cost()"
   ]
  },
  {
   "cell_type": "code",
   "execution_count": null,
   "metadata": {},
   "outputs": [],
   "source": []
  },
  {
   "cell_type": "code",
   "execution_count": null,
   "metadata": {},
   "outputs": [],
   "source": []
  }
 ],
 "metadata": {
  "kernelspec": {
   "display_name": "Python 3",
   "language": "python",
   "name": "python3"
  },
  "language_info": {
   "codemirror_mode": {
    "name": "ipython",
    "version": 3
   },
   "file_extension": ".py",
   "mimetype": "text/x-python",
   "name": "python",
   "nbconvert_exporter": "python",
   "pygments_lexer": "ipython3",
   "version": "3.8.5"
  }
 },
 "nbformat": 4,
 "nbformat_minor": 4
}
