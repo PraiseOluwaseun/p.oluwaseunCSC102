{
 "cells": [
  {
   "cell_type": "code",
   "execution_count": null,
   "metadata": {},
   "outputs": [],
   "source": [
    "class Oranges():\n",
    "    def cost(order):\n",
    "        print(\"The price of each orange is 100 nairas\")\n",
    "        prices = order*100\n",
    "        print(\"Your total price is \",prices)\n",
    "\n",
    "name = input(\"Enter name please: \")\n",
    "print(f\"Hello {name} welcome\")\n",
    "\n",
    " order = int(input(\"Please place your order: \")) \n",
    "       \n",
    "if order <= 200:\n",
    "            print(f\"You have order {order} orange(s)\")\n",
    "else:\n",
    "            print(\"Please your order is beyond our stock\")\n",
    "            \n",
    "house = Oranges() \n",
    "\n",
    "house.cost()"
   ]
  },
  {
   "cell_type": "code",
   "execution_count": null,
   "metadata": {},
   "outputs": [],
   "source": []
  },
  {
   "cell_type": "code",
   "execution_count": null,
   "metadata": {},
   "outputs": [],
   "source": [
    "# importing pandas as pd\n",
    "import pandas as pd\n",
    "   \n",
    "class Breweries():\n",
    "    def table(self,record)\n",
    "        records = {'Lager':[\"33 Export\", \"Desperados\", \"Goldberg\", \"Guilder\"],\n",
    "        'degree': [\"MBA\", \"BCA\", \"M.Tech\", \"MBA\"],\n",
    "        'score':[90, 40, 80, 98]}\n",
    "    \n",
    "# creating a dataframe from a dictionary \n",
    "df = pd.DataFrame(records)\n",
    "\n",
    "# saving the dataframe\n",
    "df.to_csv('record.csv')"
   ]
  }
 ],
 "metadata": {
  "kernelspec": {
   "display_name": "Python 3",
   "language": "python",
   "name": "python3"
  },
  "language_info": {
   "codemirror_mode": {
    "name": "ipython",
    "version": 3
   },
   "file_extension": ".py",
   "mimetype": "text/x-python",
   "name": "python",
   "nbconvert_exporter": "python",
   "pygments_lexer": "ipython3",
   "version": "3.8.5"
  }
 },
 "nbformat": 4,
 "nbformat_minor": 4
}
