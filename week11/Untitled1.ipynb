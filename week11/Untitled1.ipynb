{
 "cells": [
  {
   "cell_type": "code",
   "execution_count": 16,
   "metadata": {},
   "outputs": [
    {
     "name": "stdout",
     "output_type": "stream",
     "text": [
      "Enter name please: o\n",
      "Hello o welcome\n",
      "Please place your order: 99\n",
      "You have ordered 99 orange(s)\n",
      "The price of each orange is 100 nairas\n",
      "Your total price is  9900\n"
     ]
    }
   ],
   "source": [
    "class Oranges():\n",
    "    def cost(self, prices):\n",
    "       \n",
    "        print(\"The price of each orange is 100 nairas\")\n",
    "        \n",
    "        print(\"Your total price is \",prices)\n",
    "\n",
    "name = input(\"Enter name please: \")\n",
    "print(f\"Hello {name} welcome\")\n",
    "\n",
    "order = int(input(\"Please place your order: \")) \n",
    "       \n",
    "if order <= 200:\n",
    "            print(f\"You have ordered {order} orange(s)\")\n",
    "else:\n",
    "            print(\"Please your order is beyond our stock\")\n",
    "prices = order * 100            \n",
    "house = Oranges() \n",
    "house.cost(prices)"
   ]
  },
  {
   "cell_type": "code",
   "execution_count": 29,
   "metadata": {},
   "outputs": [
    {
     "name": "stdout",
     "output_type": "stream",
     "text": [
      "Pick formula to use \n",
      " 1 = Trapezium\n",
      " 2 = Rhombus\n",
      " 3 = Parallelogram\n",
      " 4 = Cube\n",
      " 5 = Cylinder\n",
      "Enter code for the formula: 1\n",
      "Enter height: 55\n",
      "Enter base1: 7\n",
      "Enter base2: 7\n",
      "The formula for Area of trapezium = height/2*(base1 + base2)\n",
      "Area of trapezium =  385.0\n"
     ]
    }
   ],
   "source": [
    "class formula():\n",
    "    def AOT(self):\n",
    "        height = int(input(\"Enter height: \"))\n",
    "        base1 = int(input(\"Enter base1: \"))\n",
    "        base2 = int(input(\"Enter base2: \"))\n",
    "        print(\"The formula for Area of trapezium = height/2*(base1 + base2)\")\n",
    "        solu = height/2*(base1 + base2)\n",
    "        print(\"Area of trapezium = \",solu)\n",
    "        \n",
    "    def AOR(self):\n",
    "        dia1 = int(input(\"Enter dia1: \"))\n",
    "        dia2 = int(input(\"Enter dia2: \"))\n",
    "        print(\"The formula for Area of rhombus 1/2*(diagonal1 * diagional2)\")\n",
    "        solu = 1/2*(dia1 * dia2)\n",
    "        print(\"Area of rhombus = \",solu)\n",
    "    def AOP(self):\n",
    "        base = int(input(\"Enter base: \"))\n",
    "        altitude = int(input(\"Enter altitude: \"))\n",
    "        print(\"The formula for Area of parallelogram is base x height\")\n",
    "        solu = base * height\n",
    "        print(\"Area of parallelogram = \",solu) \n",
    "        \n",
    "    def AC(self):\n",
    "        l = int(input(\"Enter lenght of side: \"))\n",
    "        print(\"The formula for Area of cube is 6 * lenght of side^ 2\")\n",
    "        solu = 6 * (l)^2\n",
    "        print(\"Area of cube = \",solu)\n",
    "        \n",
    "    def ACy(self):\n",
    "        height = int(input(\"Enter height: \"))\n",
    "        radi = int(input(\"Enter radius: \"))\n",
    "        pi = 22/7\n",
    "        print(\"The formula for Area of cylinder is pi * radius ^2\")\n",
    "        solu = pi * (radi)^2\n",
    "        print(\"Area of cylinder = \",solu)\n",
    "\n",
    "        \n",
    "print(\"Pick formula to use \\n 1 = Trapezium\\n 2 = Rhombus\\n 3 = Parallelogram\\n 4 = Cube\\n 5 = Cylinder\")\n",
    "\n",
    "pick = int(input(\"Enter code for the formula: \"))\n",
    "area = formula()\n",
    "if pick == 1:\n",
    "    area.AOT()\n",
    "elif pick == 2:\n",
    "    area.AOR()\n",
    "elif pick == 3:\n",
    "    area.AOP()\n",
    "elif pick == 4:\n",
    "    area.AC()\n",
    "elif pick == 5:\n",
    "    area.ACy()\n",
    "    \n",
    "else:\n",
    "    print(\"Please wrong syntax try again\")\n",
    "    \n"
   ]
  },
  {
   "cell_type": "code",
   "execution_count": 25,
   "metadata": {},
   "outputs": [],
   "source": [
    "# importing pandas as pd\n",
    "import pandas as pd\n",
    "   \n",
    "class Breweries():\n",
    "    def table(self, records):\n",
    "        \n",
    "    \n",
    "\n",
    "        df = pd.DataFrame(records)\n",
    "        df.to_csv('Nigerian_Breweries.csv')\n",
    "        \n",
    "records = {'Lager':[\"33 Export\", \"Desperados\", \"Goldberg\", \"Guilder\",\"Heineken\",\"Star\"],\n",
    "        'Stout': [\"Legend\", \"Turbo King\", \"Williams\",\"\",\"\",\"\"],\n",
    "        'Non-Alcoholic':[\"Maltina\", \"Anstel Malta\", \"Malta Gold\", \"Fayrouz\",\"\",\"\"]}\n",
    "st = Breweries()\n",
    "st.table(records)"
   ]
  },
  {
   "cell_type": "code",
   "execution_count": null,
   "metadata": {},
   "outputs": [],
   "source": []
  }
 ],
 "metadata": {
  "kernelspec": {
   "display_name": "Python 3",
   "language": "python",
   "name": "python3"
  },
  "language_info": {
   "codemirror_mode": {
    "name": "ipython",
    "version": 3
   },
   "file_extension": ".py",
   "mimetype": "text/x-python",
   "name": "python",
   "nbconvert_exporter": "python",
   "pygments_lexer": "ipython3",
   "version": "3.8.5"
  }
 },
 "nbformat": 4,
 "nbformat_minor": 4
}
