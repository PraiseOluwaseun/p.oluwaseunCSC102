{
 "cells": [
  {
   "cell_type": "code",
   "execution_count": 23,
   "metadata": {},
   "outputs": [
    {
     "ename": "ValueError",
     "evalue": "The truth value of a DataFrame is ambiguous. Use a.empty, a.bool(), a.item(), a.any() or a.all().",
     "output_type": "error",
     "traceback": [
      "\u001b[1;31m---------------------------------------------------------------------------\u001b[0m",
      "\u001b[1;31mValueError\u001b[0m                                Traceback (most recent call last)",
      "\u001b[1;32m<ipython-input-23-dda527dbdfe3>\u001b[0m in \u001b[0;36m<module>\u001b[1;34m\u001b[0m\n\u001b[0;32m      3\u001b[0m \u001b[0mdata\u001b[0m \u001b[1;33m=\u001b[0m \u001b[0mpd\u001b[0m\u001b[1;33m.\u001b[0m\u001b[0mread_csv\u001b[0m\u001b[1;33m(\u001b[0m\u001b[1;34m\"sis.csv\"\u001b[0m\u001b[1;33m)\u001b[0m\u001b[1;33m\u001b[0m\u001b[1;33m\u001b[0m\u001b[0m\n\u001b[0;32m      4\u001b[0m \u001b[1;32mfor\u001b[0m \u001b[0mi\u001b[0m \u001b[1;32min\u001b[0m \u001b[0mrange\u001b[0m\u001b[1;33m(\u001b[0m\u001b[0mlen\u001b[0m\u001b[1;33m(\u001b[0m\u001b[0mdata\u001b[0m\u001b[1;33m)\u001b[0m\u001b[1;33m)\u001b[0m\u001b[1;33m:\u001b[0m\u001b[1;33m\u001b[0m\u001b[1;33m\u001b[0m\u001b[0m\n\u001b[1;32m----> 5\u001b[1;33m      \u001b[1;32mif\u001b[0m \u001b[0mdata\u001b[0m\u001b[1;33m.\u001b[0m\u001b[0mloc\u001b[0m\u001b[1;33m[\u001b[0m\u001b[0mdata\u001b[0m\u001b[1;33m[\u001b[0m\u001b[1;34m\"Age\"\u001b[0m\u001b[1;33m]\u001b[0m \u001b[1;33m<\u001b[0m \u001b[1;36m14\u001b[0m \u001b[1;33m]\u001b[0m \u001b[1;33m&\u001b[0m \u001b[0mdata\u001b[0m\u001b[1;33m.\u001b[0m\u001b[0mloc\u001b[0m\u001b[1;33m[\u001b[0m\u001b[0mdata\u001b[0m\u001b[1;33m[\u001b[0m\u001b[1;34m\"Age\"\u001b[0m\u001b[1;33m]\u001b[0m \u001b[1;33m>\u001b[0m \u001b[1;36m18\u001b[0m \u001b[1;33m]\u001b[0m\u001b[1;33m:\u001b[0m\u001b[1;33m\u001b[0m\u001b[1;33m\u001b[0m\u001b[0m\n\u001b[0m\u001b[0;32m      6\u001b[0m             \u001b[0mdata\u001b[0m\u001b[1;33m\u001b[0m\u001b[1;33m\u001b[0m\u001b[0m\n\u001b[0;32m      7\u001b[0m \u001b[1;33m\u001b[0m\u001b[0m\n",
      "\u001b[1;32mC:\\ProgramData\\Anaconda3\\lib\\site-packages\\pandas\\core\\generic.py\u001b[0m in \u001b[0;36m__nonzero__\u001b[1;34m(self)\u001b[0m\n\u001b[0;32m   1327\u001b[0m \u001b[1;33m\u001b[0m\u001b[0m\n\u001b[0;32m   1328\u001b[0m     \u001b[1;32mdef\u001b[0m \u001b[0m__nonzero__\u001b[0m\u001b[1;33m(\u001b[0m\u001b[0mself\u001b[0m\u001b[1;33m)\u001b[0m\u001b[1;33m:\u001b[0m\u001b[1;33m\u001b[0m\u001b[1;33m\u001b[0m\u001b[0m\n\u001b[1;32m-> 1329\u001b[1;33m         raise ValueError(\n\u001b[0m\u001b[0;32m   1330\u001b[0m             \u001b[1;34mf\"The truth value of a {type(self).__name__} is ambiguous. \"\u001b[0m\u001b[1;33m\u001b[0m\u001b[1;33m\u001b[0m\u001b[0m\n\u001b[0;32m   1331\u001b[0m             \u001b[1;34m\"Use a.empty, a.bool(), a.item(), a.any() or a.all().\"\u001b[0m\u001b[1;33m\u001b[0m\u001b[1;33m\u001b[0m\u001b[0m\n",
      "\u001b[1;31mValueError\u001b[0m: The truth value of a DataFrame is ambiguous. Use a.empty, a.bool(), a.item(), a.any() or a.all()."
     ]
    }
   ],
   "source": [
    "import pandas as pd\n",
    "\n",
    "data = pd.read_csv(\"sis.csv\")\n",
    "for i in range(len(data)):\n",
    "     if data.loc[data[\"Age\"] < 14 ]:\n",
    "           \n",
    "            \n",
    "                                                       \n"
   ]
  },
  {
   "cell_type": "code",
   "execution_count": 22,
   "metadata": {},
   "outputs": [
    {
     "ename": "SyntaxError",
     "evalue": "invalid syntax (<ipython-input-22-02bb56d15f49>, line 7)",
     "output_type": "error",
     "traceback": [
      "\u001b[1;36m  File \u001b[1;32m\"<ipython-input-22-02bb56d15f49>\"\u001b[1;36m, line \u001b[1;32m7\u001b[0m\n\u001b[1;33m    if data.Age =< 14 & => 18:\u001b[0m\n\u001b[1;37m                ^\u001b[0m\n\u001b[1;31mSyntaxError\u001b[0m\u001b[1;31m:\u001b[0m invalid syntax\n"
     ]
    }
   ],
   "source": [
    "import pandas as pd\n",
    "import numpy as np\n",
    "\n",
    "\n",
    "data = pd.read_csv(\"sis.csv\")\n",
    "for i in range(len(data)):\n",
    "    if data.Age =< 14 & => 18:\n",
    "        data\n",
    "    \n"
   ]
  },
  {
   "cell_type": "code",
   "execution_count": 25,
   "metadata": {},
   "outputs": [
    {
     "name": "stdout",
     "output_type": "stream",
     "text": [
      "The Pirates:\n",
      "   MatNo               Name Age Grade\n",
      "0   1810       Aina Adeleke  16    80\n",
      "2   1812    Callistus Okeke  17    40\n",
      "5   1815    Stella Olohimen  17    44\n",
      "10  1820  Wilfred Nwachukwu  16    45\n",
      "11  1821      Mildred James  15    70\n",
      "\n",
      "The Yankees:\n",
      "   MatNo            Name Age Grade\n",
      "4   1814     Mary Akande  20    87\n",
      "12  1822  Glory Babalola  21    69\n",
      "14  1824   Godwin Osahon  20    51\n",
      "15  1825    Philip Odion  19    68\n",
      "\n",
      "The Bulls:\n",
      "  MatNo             Name Age Grade\n",
      "1  1811      Sola Egbune  23    55\n",
      "3  1813    Martin Alegbe  25    77\n",
      "7  1817  Durojaiye Adamu  24    60\n"
     ]
    }
   ],
   "source": [
    "import pandas as pd\n",
    "\n",
    "class Student:\n",
    "    def __init__(self, csv_file):\n",
    "        self.csv_file = csv_file\n",
    "\n",
    "    def identify_age(self):\n",
    "        # Read the CSV file into a pandas DataFrame\n",
    "        df = pd.read_csv(self.csv_file)\n",
    "\n",
    "        # Create empty DataFrames for each category\n",
    "        pirates_df = pd.DataFrame(columns=df.columns)\n",
    "        yankees_df = pd.DataFrame(columns=df.columns)\n",
    "        bulls_df = pd.DataFrame(columns=df.columns)\n",
    "\n",
    "        # Iterate over each row in the DataFrame\n",
    "        for index, row in df.iterrows():\n",
    "            age = row['Age']\n",
    "\n",
    "            # Classify grades based on age into respective categories\n",
    "            if age > 14 and age < 18:\n",
    "                pirates_df = pirates_df.append(row)\n",
    "            elif age > 18 and age < 22:\n",
    "                yankees_df = yankees_df.append(row)\n",
    "            elif age > 22:\n",
    "                bulls_df = bulls_df.append(row)\n",
    "\n",
    "        # Save the DataFrames to CSV files\n",
    "        pirates_df.to_csv('The_Pirates.csv', index=False)\n",
    "        yankees_df.to_csv('The_Yankees.csv', index=False)\n",
    "        bulls_df.to_csv('The_Bulls.csv', index=False)\n",
    "\n",
    "        # Display the DataFrames\n",
    "        print(\"The Pirates:\")\n",
    "        print(pirates_df)\n",
    "        print(\"\\nThe Yankees:\")\n",
    "        print(yankees_df)\n",
    "        print(\"\\nThe Bulls:\")\n",
    "        print(bulls_df)\n",
    "\n",
    "# Create an instance of the StudentGradesClassifier class and provide the SIS CSV file path\n",
    "classifier = Student('sis.csv')\n",
    "\n",
    "# Classify grades and display the results\n",
    "classifier.identify_age()\n"
   ]
  },
  {
   "cell_type": "code",
   "execution_count": null,
   "metadata": {},
   "outputs": [],
   "source": []
  }
 ],
 "metadata": {
  "kernelspec": {
   "display_name": "Python 3",
   "language": "python",
   "name": "python3"
  },
  "language_info": {
   "codemirror_mode": {
    "name": "ipython",
    "version": 3
   },
   "file_extension": ".py",
   "mimetype": "text/x-python",
   "name": "python",
   "nbconvert_exporter": "python",
   "pygments_lexer": "ipython3",
   "version": "3.8.5"
  }
 },
 "nbformat": 4,
 "nbformat_minor": 4
}
