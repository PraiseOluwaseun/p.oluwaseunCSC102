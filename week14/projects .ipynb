{
 "cells": [
  {
   "cell_type": "code",
   "execution_count": 6,
   "id": "ffcc8be8",
   "metadata": {},
   "outputs": [
    {
     "name": "stdout",
     "output_type": "stream",
     "text": [
      "Enter the number of students: 1\n",
      "\n",
      "Enter details for student #1:\n",
      "Enter your name: fffff\n",
      " Enter your matriculation Number: 44\n",
      " Enter your department: ee\n",
      "Enter your level: 33\n"
     ]
    },
    {
     "name": "stderr",
     "output_type": "stream",
     "text": [
      "C:\\Users\\mimis\\AppData\\Local\\Temp\\ipykernel_3976\\2244823332.py:18: FutureWarning: The frame.append method is deprecated and will be removed from pandas in a future version. Use pandas.concat instead.\n",
      "  student_data = student_data.append({\n"
     ]
    },
    {
     "name": "stdout",
     "output_type": "stream",
     "text": [
      "\n",
      "Enter the filename to save the data (without extension): rule\n",
      "\n",
      "Student data has been saved to rule.csv\n"
     ]
    }
   ],
   "source": [
    "#Project1\n",
    "import pandas as pd\n",
    "\n",
    "\n",
    "data = pd.DataFrame(columns=['Name', 'Matriculation Number', 'Department', 'Level'])\n",
    "\n",
    "\n",
    "number = int(input(\"Enter the number of students: \"))\n",
    "\n",
    "\n",
    "for i in range(number):\n",
    "    print(f\"\\nEnter details for student #{i+1}:\")\n",
    "    name = input(\"Enter your name: \")\n",
    "    matriculation_number = input(\" Enter your matriculation Number: \")\n",
    "    department = input(\" Enter your department: \")\n",
    "    level = input(\"Enter your level: \")\n",
    "\n",
    " \n",
    "    student_data = student_data.append({\n",
    "        'Name': name,\n",
    "        'Matriculation Number': matriculation_number,\n",
    "        'Department': department,\n",
    "        'Level': level\n",
    "    }, ignore_index=True)\n",
    "\n",
    "\n",
    "filename = input(\"\\nEnter the filename to save the data (without extension): \")\n",
    "data.to_csv(f\"{filename}.csv\", index=False)\n",
    "print(f\"\\nStudent data has been saved to {filename}.csv\")"
   ]
  },
  {
   "cell_type": "code",
   "execution_count": 9,
   "id": "54c6c3ba",
   "metadata": {},
   "outputs": [
    {
     "name": "stdout",
     "output_type": "stream",
     "text": [
      "You are done\n"
     ]
    }
   ],
   "source": [
    "#Project2\n",
    "import pandas as pd\n",
    "\n",
    "records = {'Company':[\"Enron\", \"Anderson\", \"GK Jones \", \"Mica\", \"Dune\"],\n",
    "        'Company assests':[1000000, 1500000, 3000000, 25000, 800000],\n",
    "        'Company liability ':[200000, 500000, 15000000, 50000 , 300000],\n",
    "          'Date founded':[1987, 1936, 2001, 1996, 2008],\n",
    "           'Precentage leverage':[90, 40, 80, 98, 30]}\n",
    "  \n",
    "# creating a dataframe from a dictionary \n",
    "df = pd.DataFrame(records)\n",
    "\n",
    "# saving the dataframe\n",
    "df.to_csv('Financial_Companies.csv')\n",
    "print(\"You are done\")\n"
   ]
  },
  {
   "cell_type": "code",
   "execution_count": null,
   "id": "a9d25e44",
   "metadata": {},
   "outputs": [],
   "source": []
  }
 ],
 "metadata": {
  "kernelspec": {
   "display_name": "Python 3 (ipykernel)",
   "language": "python",
   "name": "python3"
  },
  "language_info": {
   "codemirror_mode": {
    "name": "ipython",
    "version": 3
   },
   "file_extension": ".py",
   "mimetype": "text/x-python",
   "name": "python",
   "nbconvert_exporter": "python",
   "pygments_lexer": "ipython3",
   "version": "3.10.9"
  }
 },
 "nbformat": 4,
 "nbformat_minor": 5
}
