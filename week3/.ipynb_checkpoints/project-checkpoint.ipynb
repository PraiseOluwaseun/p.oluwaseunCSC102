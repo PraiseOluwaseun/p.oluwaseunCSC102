{
 "cells": [
  {
   "cell_type": "code",
   "execution_count": 1,
   "metadata": {},
   "outputs": [
    {
     "name": "stdout",
     "output_type": "stream",
     "text": [
      "ax2 + bx + c = 0\n",
      "a: 2\n",
      "b: 3\n",
      "c: 4\n",
      "[(-0.7499999999999999+1.1989578808281798j), (-0.7500000000000001-1.1989578808281798j)]\n"
     ]
    }
   ],
   "source": [
    "print (\"ax2 + bx + c = 0\")\n",
    "a = float(input(\"a: \"))\n",
    "b = float(input(\"b: \"))\n",
    "c = float(input(\"c: \"))\n",
    "d = (b**2) - (4*a*c)\n",
    "answers = []\n",
    "numerator = [-b + d**0.5, -b - d**0.5]\n",
    "\n",
    "denominator= 2 * a\n",
    "\n",
    "for i in range(2):\n",
    "    ans = numerator[i] / denominator\n",
    "    answers.append(ans)\n",
    "print (answers)"
   ]
  },
  {
   "cell_type": "code",
   "execution_count": null,
   "metadata": {},
   "outputs": [],
   "source": []
  }
 ],
 "metadata": {
  "kernelspec": {
   "display_name": "Python 3",
   "language": "python",
   "name": "python3"
  },
  "language_info": {
   "codemirror_mode": {
    "name": "ipython",
    "version": 3
   },
   "file_extension": ".py",
   "mimetype": "text/x-python",
   "name": "python",
   "nbconvert_exporter": "python",
   "pygments_lexer": "ipython3",
   "version": "3.8.5"
  }
 },
 "nbformat": 4,
 "nbformat_minor": 4
}
