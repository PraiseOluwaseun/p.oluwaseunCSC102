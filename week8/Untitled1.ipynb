{
 "cells": [
  {
   "cell_type": "code",
   "execution_count": 1,
   "metadata": {},
   "outputs": [],
   "source": [
    "import pandas as pd\n",
    "\n",
    "def admission_checker(department):\n",
    "    jamb_score = int(input(\"Enter your JAMB score: \"))\n",
    "    math_grade = input(\"Enter your grade in Mathematics: \")\n",
    "    english_grade = input(\"Enter your grade in English Language: \")\n",
    "    biology_grade = input(\"Enter your grade in Biology: \")\n",
    "    physics_grade = input(\"Enter your grade in Physics: \")\n",
    "    \n",
    "    if department == \"Computer Science\" and jamb_score >= 230 and math_grade in [\"A\", \"B\", \"C\"] and english_grade in [\"A\", \"B\", \"C\"] and biology_grade in [\"A\", \"B\", \"C\"] and physics_grade in [\"A\", \"B\", \"C\"]:\n",
    "        print(\"Congratulations! You have been admitted into the Computer Science Department.\")\n",
    "        admitted = pd.DataFrame({\n",
    "            \"JAMB Score\": [jamb_score],\n",
    "            \"Math Grade\": [math_grade],\n",
    "            \"English Grade\": [english_grade],\n",
    "            \"Biology Grade\": [biology_grade],\n",
    "            \"Physics Grade\": [physics_grade]\n",
    "        })\n",
    "        admitted.to_csv(\"admitted.csv\", mode='a', header=not bool(pd.read_csv(\"admitted.csv\").shape[0]))\n",
    "    elif department == \"Mass Communication\" and jamb_score >= 220 and math_grade in [\"A\", \"B\", \"C\"] and english_grade in [\"A\", \"B\", \"C\"] and biology_grade in [\"A\", \"B\", \"C\"] and physics_grade in [\"A\", \"B\", \"C\"]:\n",
    "        print(\"Congratulations! You have been admitted into the Mass Communication Department.\")\n",
    "        admitted = pd.DataFrame({\n",
    "            \"JAMB Score\": [jamb_score],\n",
    "            \"Math Grade\": [math_grade],\n",
    "            \"English Grade\": [english_grade],\n",
    "            \"Biology Grade\": [biology_grade],\n",
    "            \"Physics Grade\": [physics_grade]\n",
    "        })\n",
    "        admitted.to_csv(\"admitted.csv\", mode='a', header=not bool(pd.read_csv(\"admitted.csv\").shape[0]))\n",
    "    else:\n",
    "        print(\"Sorry, you did not meet the requirements for admission into the \" + department + \" Department.\")\n",
    "        not_admitted = pd.DataFrame({\n",
    "            \"JAMB Score\": [jamb_score],\n",
    "            \"Math Grade\": [math_grade],\n",
    "            \"English Grade\": [english_grade],\n",
    "            \"Biology Grade\": [biology_grade],\n",
    "            \"Physics Grade\": [physics_grade]\n",
    "        })\n",
    "        not_admitted.to_csv(\"not-admitted.csv\", mode='a', header=not bool(pd.read_csv(\"not-admitted.csv\").shape[0]))\n"
   ]
  },
  {
   "cell_type": "code",
   "execution_count": null,
   "metadata": {},
   "outputs": [],
   "source": []
  }
 ],
 "metadata": {
  "kernelspec": {
   "display_name": "Python 3",
   "language": "python",
   "name": "python3"
  },
  "language_info": {
   "codemirror_mode": {
    "name": "ipython",
    "version": 3
   },
   "file_extension": ".py",
   "mimetype": "text/x-python",
   "name": "python",
   "nbconvert_exporter": "python",
   "pygments_lexer": "ipython3",
   "version": "3.8.5"
  }
 },
 "nbformat": 4,
 "nbformat_minor": 4
}
